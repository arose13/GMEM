{
 "cells": [
  {
   "cell_type": "code",
   "execution_count": 1,
   "metadata": {},
   "outputs": [],
   "source": [
    "import numpy as np\n",
    "import pandas as pd\n",
    "import matplotlib.pyplot as graph\n",
    "import seaborn as sns\n",
    "\n",
    "import statsmodels.formula.api as smf\n",
    "\n",
    "from sklearn.model_selection import train_test_split, GridSearchCV\n",
    "from sklearn.preprocessing import LabelEncoder\n",
    "from sklearn.linear_model import LinearRegression\n",
    "from sklearn.ensemble import RandomForestRegressor\n",
    "\n",
    "from grem import GeneralRandomEffectsModel\n",
    "\n",
    "\n",
    "graph.style.use('fivethirtyeight')"
   ]
  },
  {
   "cell_type": "markdown",
   "metadata": {},
   "source": [
    "## Replicating the Random Effects Model"
   ]
  },
  {
   "cell_type": "code",
   "execution_count": 2,
   "metadata": {},
   "outputs": [
    {
     "data": {
      "text/html": [
       "<div>\n",
       "<style scoped>\n",
       "    .dataframe tbody tr th:only-of-type {\n",
       "        vertical-align: middle;\n",
       "    }\n",
       "\n",
       "    .dataframe tbody tr th {\n",
       "        vertical-align: top;\n",
       "    }\n",
       "\n",
       "    .dataframe thead th {\n",
       "        text-align: right;\n",
       "    }\n",
       "</style>\n",
       "<table border=\"1\" class=\"dataframe\">\n",
       "  <thead>\n",
       "    <tr style=\"text-align: right;\">\n",
       "      <th></th>\n",
       "      <th>Reaction</th>\n",
       "      <th>Days</th>\n",
       "      <th>Subject</th>\n",
       "    </tr>\n",
       "  </thead>\n",
       "  <tbody>\n",
       "    <tr>\n",
       "      <th>1</th>\n",
       "      <td>249.5600</td>\n",
       "      <td>0</td>\n",
       "      <td>308</td>\n",
       "    </tr>\n",
       "    <tr>\n",
       "      <th>2</th>\n",
       "      <td>258.7047</td>\n",
       "      <td>1</td>\n",
       "      <td>308</td>\n",
       "    </tr>\n",
       "    <tr>\n",
       "      <th>3</th>\n",
       "      <td>250.8006</td>\n",
       "      <td>2</td>\n",
       "      <td>308</td>\n",
       "    </tr>\n",
       "    <tr>\n",
       "      <th>4</th>\n",
       "      <td>321.4398</td>\n",
       "      <td>3</td>\n",
       "      <td>308</td>\n",
       "    </tr>\n",
       "    <tr>\n",
       "      <th>5</th>\n",
       "      <td>356.8519</td>\n",
       "      <td>4</td>\n",
       "      <td>308</td>\n",
       "    </tr>\n",
       "  </tbody>\n",
       "</table>\n",
       "</div>"
      ],
      "text/plain": [
       "   Reaction  Days  Subject\n",
       "1  249.5600     0      308\n",
       "2  258.7047     1      308\n",
       "3  250.8006     2      308\n",
       "4  321.4398     3      308\n",
       "5  356.8519     4      308"
      ]
     },
     "metadata": {},
     "output_type": "display_data"
    },
    {
     "name": "stdout",
     "output_type": "stream",
     "text": [
      "(180, 3)\n",
      "(126, 1) (126, 1) (126,) (126,)\n"
     ]
    }
   ],
   "source": [
    "df = pd.read_csv('data/sleepstudy.csv', index_col=0)\n",
    "x, z, group, y = df[['Days']], np.ones((len(df), 1)), df['Subject'], df['Reaction']\n",
    "\n",
    "display(df.head())\n",
    "print(df.shape)\n",
    "\n",
    "x_train, x_test, z_train, z_test, group_train, group_test, y_train, y_test = train_test_split(x, z, group, y, test_size=0.3)\n",
    "print(x_train.shape, z_train.shape, group_train.shape, y_train.shape)"
   ]
  },
  {
   "cell_type": "code",
   "execution_count": 3,
   "metadata": {},
   "outputs": [
    {
     "name": "stdout",
     "output_type": "stream",
     "text": [
      "0.31992185921289307\n",
      "Wall time: 49 ms\n"
     ]
    }
   ],
   "source": [
    "%%time\n",
    "# Baseline\n",
    "lm = LinearRegression().fit(df[['Days', 'Subject']], df['Reaction'])\n",
    "print(lm.score(df[['Days', 'Subject']], df['Reaction']))"
   ]
  },
  {
   "cell_type": "code",
   "execution_count": 4,
   "metadata": {},
   "outputs": [
    {
     "name": "stdout",
     "output_type": "stream",
     "text": [
      "1.43 ms ± 113 µs per loop (mean ± std. dev. of 7 runs, 1000 loops each)\n"
     ]
    }
   ],
   "source": [
    "%%timeit\n",
    "lm.predict(df[['Days', 'Subject']])"
   ]
  },
  {
   "cell_type": "code",
   "execution_count": 5,
   "metadata": {},
   "outputs": [
    {
     "data": {
      "text/html": [
       "<table class=\"simpletable\">\n",
       "<tr>\n",
       "       <td>Model:</td>       <td>MixedLM</td> <td>Dependent Variable:</td> <td>Reaction</td> \n",
       "</tr>\n",
       "<tr>\n",
       "  <td>No. Observations:</td>   <td>180</td>         <td>Method:</td>         <td>REML</td>   \n",
       "</tr>\n",
       "<tr>\n",
       "     <td>No. Groups:</td>      <td>18</td>          <td>Scale:</td>        <td>960.4568</td> \n",
       "</tr>\n",
       "<tr>\n",
       "  <td>Min. group size:</td>    <td>10</td>        <td>Likelihood:</td>     <td>-893.2325</td>\n",
       "</tr>\n",
       "<tr>\n",
       "  <td>Max. group size:</td>    <td>10</td>        <td>Converged:</td>         <td>Yes</td>   \n",
       "</tr>\n",
       "<tr>\n",
       "  <td>Mean group size:</td>   <td>10.0</td>            <td></td>               <td></td>     \n",
       "</tr>\n",
       "</table>\n",
       "<table class=\"simpletable\">\n",
       "<tr>\n",
       "      <td></td>        <th>Coef.</th>  <th>Std.Err.</th>    <th>z</th>   <th>P>|z|</th> <th>[0.025</th>  <th>0.975]</th> \n",
       "</tr>\n",
       "<tr>\n",
       "  <th>Intercept</th>  <td>251.405</td>   <td>9.747</td>  <td>25.794</td> <td>0.000</td> <td>232.302</td> <td>270.508</td>\n",
       "</tr>\n",
       "<tr>\n",
       "  <th>Days</th>       <td>10.467</td>    <td>0.804</td>  <td>13.015</td> <td>0.000</td>  <td>8.891</td>  <td>12.044</td> \n",
       "</tr>\n",
       "<tr>\n",
       "  <th>groups RE</th> <td>1378.176</td>  <td>17.156</td>     <td></td>      <td></td>       <td></td>        <td></td>    \n",
       "</tr>\n",
       "</table>"
      ],
      "text/plain": [
       "<class 'statsmodels.iolib.summary2.Summary'>\n",
       "\"\"\"\n",
       "         Mixed Linear Model Regression Results\n",
       "========================================================\n",
       "Model:             MixedLM Dependent Variable: Reaction \n",
       "No. Observations:  180     Method:             REML     \n",
       "No. Groups:        18      Scale:              960.4568 \n",
       "Min. group size:   10      Likelihood:         -893.2325\n",
       "Max. group size:   10      Converged:          Yes      \n",
       "Mean group size:   10.0                                 \n",
       "--------------------------------------------------------\n",
       "           Coef.   Std.Err.   z    P>|z|  [0.025  0.975]\n",
       "--------------------------------------------------------\n",
       "Intercept  251.405    9.747 25.794 0.000 232.302 270.508\n",
       "Days        10.467    0.804 13.015 0.000   8.891  12.044\n",
       "groups RE 1378.176   17.156                             \n",
       "========================================================\n",
       "\n",
       "\"\"\""
      ]
     },
     "metadata": {},
     "output_type": "display_data"
    },
    {
     "name": "stdout",
     "output_type": "stream",
     "text": [
      "Wall time: 331 ms\n"
     ]
    }
   ],
   "source": [
    "%%time\n",
    "# Real LMM\n",
    "lmm = smf.mixedlm('Reaction ~ Days', df, groups='Subject').fit()\n",
    "display(lmm.summary())"
   ]
  },
  {
   "cell_type": "code",
   "execution_count": 6,
   "metadata": {},
   "outputs": [
    {
     "name": "stdout",
     "output_type": "stream",
     "text": [
      "R2: 0.19794016610037657 GLL: 1125.0112344173817 at iteration 1\n",
      "R2: 0.4637260005591136 GLL: 1123.7017421523665 at iteration 2\n",
      "R2: 0.4675844917745545 GLL: 1123.9318767002603 at iteration 3\n",
      "R2: 0.4680990417689327 GLL: 1123.9536826727876 at iteration 4\n",
      "R2: 0.46815431010535424 GLL: 1123.9561818452858 at iteration 5\n",
      "R2: 0.46816046482304363 GLL: 1123.956008619885 at iteration 6\n",
      "R2: 0.4681608362366505 GLL: 1123.9555871993298 at iteration 7\n",
      "R2: 0.4681606170185493 GLL: 1123.9551900340305 at iteration 8\n",
      "R2: 0.468160375707237 GLL: 1123.9548433800678 at iteration 9\n",
      "R2: 0.46816016616272893 GLL: 1123.9545433235094 at iteration 10\n",
      "R2: 0.4681599878209288 GLL: 1123.954283382783 at iteration 11\n",
      "R2: 0.468159835919979 GLL: 1123.954057706389 at iteration 12\n",
      "R2: 0.46815970621713054 GLL: 1123.9538613197928 at iteration 13\n",
      "R2: 0.46815959519372696 GLL: 1123.9536900240953 at iteration 14\n",
      "R2: 0.4681594999279082 GLL: 1123.9535402732076 at iteration 15\n",
      "R2: 0.4681594179841394 GLL: 1123.9534090669752 at iteration 16\n",
      "R2: 0.468159347327461 GLL: 1123.9532938618902 at iteration 17\n",
      "R2: 0.4681592862545809 GLL: 1123.9531924969015 at iteration 18\n",
      "R2: 0.46815923333743836 GLL: 1123.9531031317865 at iteration 19\n",
      "R2: 0.46815918737668216 GLL: 1123.95302419591 at iteration 20\n",
      "Wall time: 5.3 s\n"
     ]
    }
   ],
   "source": [
    "%%time\n",
    "# Fancy Model\n",
    "relm = GeneralRandomEffectsModel(estimator=LinearRegression(), cv=5, verbose=True)\n",
    "relm.fit(x_train, z_train, group_train, y_train)"
   ]
  },
  {
   "cell_type": "code",
   "execution_count": 7,
   "metadata": {},
   "outputs": [
    {
     "name": "stdout",
     "output_type": "stream",
     "text": [
      "18 ms ± 3.46 ms per loop (mean ± std. dev. of 7 runs, 10 loops each)\n"
     ]
    }
   ],
   "source": [
    "%%timeit\n",
    "# Estimate inference runtime\n",
    "relm.predict(x_train, z_train, group_train)"
   ]
  },
  {
   "cell_type": "code",
   "execution_count": 8,
   "metadata": {},
   "outputs": [
    {
     "name": "stdout",
     "output_type": "stream",
     "text": [
      "0.7274965659747971\n",
      "0.6808737630340849\n"
     ]
    }
   ],
   "source": [
    "print(relm.score(x_train, z_train, group_train, y_train))\n",
    "print(relm.score(x_test, z_test, group_test, y_test))"
   ]
  },
  {
   "cell_type": "code",
   "execution_count": 9,
   "metadata": {},
   "outputs": [
    {
     "name": "stdout",
     "output_type": "stream",
     "text": [
      "[9.98119695] 251.44942686837896\n"
     ]
    },
    {
     "data": {
      "image/png": "[encoded data removed]",
      "text/plain": [
       "<Figure size 864x288 with 1 Axes>"
      ]
     },
     "metadata": {},
     "output_type": "display_data"
    },
    {
     "data": {
      "image/png": "[encoded data removed]",
      "text/plain": [
       "<Figure size 864x288 with 1 Axes>"
      ]
     },
     "metadata": {},
     "output_type": "display_data"
    },
    {
     "data": {
      "image/png": "[encoded data removed]",
      "text/plain": [
       "<Figure size 864x288 with 1 Axes>"
      ]
     },
     "metadata": {},
     "output_type": "display_data"
    },
    {
     "data": {
      "image/png": "[encoded data removed]",
      "text/plain": [
       "<Figure size 864x288 with 1 Axes>"
      ]
     },
     "metadata": {},
     "output_type": "display_data"
    },
    {
     "data": {
      "image/png": "[encoded data removed]",
      "text/plain": [
       "<Figure size 432x432 with 1 Axes>"
      ]
     },
     "metadata": {},
     "output_type": "display_data"
    }
   ],
   "source": [
    "print(relm.estimator_.coef_, relm.estimator_.intercept_)\n",
    "\n",
    "relm.plot_history()\n",
    "\n",
    "graph.figure(figsize=(6, 6))\n",
    "graph.plot([y_test.min(), y_test.max()], [y_test.min(), y_test.max()], linestyle='--', color='black')\n",
    "graph.plot(y_train, relm.predict(x_train, z_train, group_train), '.', label='Train', alpha=0.7)\n",
    "graph.plot(y_test, relm.predict(x_test, z_test, group_test), 'o', label='Test', alpha=0.7)\n",
    "graph.show()"
   ]
  },
  {
   "cell_type": "markdown",
   "metadata": {},
   "source": [
    "## Arbitrary Random Effects Model "
   ]
  },
  {
   "cell_type": "code",
   "execution_count": 10,
   "metadata": {},
   "outputs": [
    {
     "data": {
      "text/html": [
       "<div>\n",
       "<style scoped>\n",
       "    .dataframe tbody tr th:only-of-type {\n",
       "        vertical-align: middle;\n",
       "    }\n",
       "\n",
       "    .dataframe tbody tr th {\n",
       "        vertical-align: top;\n",
       "    }\n",
       "\n",
       "    .dataframe thead th {\n",
       "        text-align: right;\n",
       "    }\n",
       "</style>\n",
       "<table border=\"1\" class=\"dataframe\">\n",
       "  <thead>\n",
       "    <tr style=\"text-align: right;\">\n",
       "      <th></th>\n",
       "      <th>floor</th>\n",
       "      <th>uppm</th>\n",
       "      <th>county</th>\n",
       "      <th>log_radon</th>\n",
       "    </tr>\n",
       "  </thead>\n",
       "  <tbody>\n",
       "    <tr>\n",
       "      <th>0</th>\n",
       "      <td>1.0</td>\n",
       "      <td>0.502054</td>\n",
       "      <td>0</td>\n",
       "      <td>0.832909</td>\n",
       "    </tr>\n",
       "    <tr>\n",
       "      <th>1</th>\n",
       "      <td>0.0</td>\n",
       "      <td>0.502054</td>\n",
       "      <td>0</td>\n",
       "      <td>0.832909</td>\n",
       "    </tr>\n",
       "    <tr>\n",
       "      <th>2</th>\n",
       "      <td>0.0</td>\n",
       "      <td>0.502054</td>\n",
       "      <td>0</td>\n",
       "      <td>1.098612</td>\n",
       "    </tr>\n",
       "    <tr>\n",
       "      <th>3</th>\n",
       "      <td>0.0</td>\n",
       "      <td>0.502054</td>\n",
       "      <td>0</td>\n",
       "      <td>0.095310</td>\n",
       "    </tr>\n",
       "    <tr>\n",
       "      <th>4</th>\n",
       "      <td>0.0</td>\n",
       "      <td>0.428565</td>\n",
       "      <td>1</td>\n",
       "      <td>1.163151</td>\n",
       "    </tr>\n",
       "  </tbody>\n",
       "</table>\n",
       "</div>"
      ],
      "text/plain": [
       "   floor      uppm  county  log_radon\n",
       "0    1.0  0.502054       0   0.832909\n",
       "1    0.0  0.502054       0   0.832909\n",
       "2    0.0  0.502054       0   1.098612\n",
       "3    0.0  0.502054       0   0.095310\n",
       "4    0.0  0.428565       1   1.163151"
      ]
     },
     "metadata": {},
     "output_type": "display_data"
    },
    {
     "name": "stdout",
     "output_type": "stream",
     "text": [
      "(919, 4)\n",
      "(735, 4) (184, 4)\n",
      "(735, 2) (735, 1) (735,) (735,)\n"
     ]
    }
   ],
   "source": [
    "radon = pd.read_csv('data/radon.csv', index_col=0)[['floor', 'Uppm', 'county', 'log_radon']]\n",
    "radon = radon.rename(columns={'Uppm': 'uppm'})\n",
    "\n",
    "county_encoder = LabelEncoder()\n",
    "county_encoder.fit(radon['county'])\n",
    "radon['county'] = county_encoder.transform(radon['county'])\n",
    "\n",
    "display(radon.head())\n",
    "print(radon.shape)\n",
    "\n",
    "radon_train, radon_test = train_test_split(radon, test_size=0.2)\n",
    "print(radon_train.shape, radon_test.shape)\n",
    "\n",
    "def create_rfx_data(d):\n",
    "    x = d[['floor', 'uppm']]\n",
    "    y = d['log_radon']\n",
    "    g = d['county']\n",
    "    z = np.ones((len(x), 1))\n",
    "    return x, z, g, y\n",
    "\n",
    "x_train, z_train, g_train, y_train = create_rfx_data(radon_train)\n",
    "x_test, z_test, g_test, y_test = create_rfx_data(radon_test)\n",
    "print(x_train.shape, z_train.shape, g_train.shape, y_train.shape)"
   ]
  },
  {
   "cell_type": "code",
   "execution_count": 11,
   "metadata": {},
   "outputs": [
    {
     "ename": "AttributeError",
     "evalue": "'LinearRegression' object has no attribute 'best_params_'",
     "output_type": "error",
     "traceback": [
      "\u001b[1;31m---------------------------------------------------------------------------\u001b[0m",
      "\u001b[1;31mAttributeError\u001b[0m                            Traceback (most recent call last)",
      "\u001b[1;32m<timed exec>\u001b[0m in \u001b[0;36m<module>\u001b[1;34m()\u001b[0m\n",
      "\u001b[1;31mAttributeError\u001b[0m: 'LinearRegression' object has no attribute 'best_params_'"
     ]
    }
   ],
   "source": [
    "%%time\n",
    "# grid_model = GridSearchCV(\n",
    "#     RandomForestRegressor(n_jobs=-1), \n",
    "#     {'n_estimators': [50, 100, 300], 'max_depth': [4, 8, 15], 'min_samples_leaf': [3, 5, 10]},\n",
    "#     cv=5\n",
    "# )\n",
    "grid_model = LinearRegression()\n",
    "grid_model.fit(radon_train.drop(columns='log_radon'), radon_train['log_radon'])\n",
    "\n",
    "print(grid_model.best_params_)"
   ]
  },
  {
   "cell_type": "code",
   "execution_count": 12,
   "metadata": {},
   "outputs": [
    {
     "ename": "AttributeError",
     "evalue": "'LinearRegression' object has no attribute 'best_estimator_'",
     "output_type": "error",
     "traceback": [
      "\u001b[1;31m---------------------------------------------------------------------------\u001b[0m",
      "\u001b[1;31mAttributeError\u001b[0m                            Traceback (most recent call last)",
      "\u001b[1;32m<timed exec>\u001b[0m in \u001b[0;36m<module>\u001b[1;34m()\u001b[0m\n",
      "\u001b[1;31mAttributeError\u001b[0m: 'LinearRegression' object has no attribute 'best_estimator_'"
     ]
    }
   ],
   "source": [
    "%%time\n",
    "# Baseline\n",
    "rf = grid_model.best_estimator_\n",
    "rf.fit(radon_train.drop(columns='log_radon'), radon_train['log_radon'])"
   ]
  },
  {
   "cell_type": "code",
   "execution_count": 13,
   "metadata": {},
   "outputs": [
    {
     "ename": "NameError",
     "evalue": "name 'rf' is not defined",
     "output_type": "error",
     "traceback": [
      "\u001b[1;31m---------------------------------------------------------------------------\u001b[0m",
      "\u001b[1;31mNameError\u001b[0m                                 Traceback (most recent call last)",
      "\u001b[1;32m<ipython-input-13-7cf427ad1b8d>\u001b[0m in \u001b[0;36m<module>\u001b[1;34m()\u001b[0m\n\u001b[1;32m----> 1\u001b[1;33m \u001b[0mprint\u001b[0m\u001b[1;33m(\u001b[0m\u001b[0mrf\u001b[0m\u001b[1;33m.\u001b[0m\u001b[0mscore\u001b[0m\u001b[1;33m(\u001b[0m\u001b[0mradon_train\u001b[0m\u001b[1;33m.\u001b[0m\u001b[0mdrop\u001b[0m\u001b[1;33m(\u001b[0m\u001b[0mcolumns\u001b[0m\u001b[1;33m=\u001b[0m\u001b[1;34m'log_radon'\u001b[0m\u001b[1;33m)\u001b[0m\u001b[1;33m,\u001b[0m \u001b[0mradon_train\u001b[0m\u001b[1;33m[\u001b[0m\u001b[1;34m'log_radon'\u001b[0m\u001b[1;33m]\u001b[0m\u001b[1;33m)\u001b[0m\u001b[1;33m)\u001b[0m\u001b[1;33m\u001b[0m\u001b[0m\n\u001b[0m\u001b[0;32m      2\u001b[0m \u001b[0mprint\u001b[0m\u001b[1;33m(\u001b[0m\u001b[0mrf\u001b[0m\u001b[1;33m.\u001b[0m\u001b[0mscore\u001b[0m\u001b[1;33m(\u001b[0m\u001b[0mradon_test\u001b[0m\u001b[1;33m.\u001b[0m\u001b[0mdrop\u001b[0m\u001b[1;33m(\u001b[0m\u001b[0mcolumns\u001b[0m\u001b[1;33m=\u001b[0m\u001b[1;34m'log_radon'\u001b[0m\u001b[1;33m)\u001b[0m\u001b[1;33m,\u001b[0m \u001b[0mradon_test\u001b[0m\u001b[1;33m[\u001b[0m\u001b[1;34m'log_radon'\u001b[0m\u001b[1;33m]\u001b[0m\u001b[1;33m)\u001b[0m\u001b[1;33m)\u001b[0m\u001b[1;33m\u001b[0m\u001b[0m\n",
      "\u001b[1;31mNameError\u001b[0m: name 'rf' is not defined"
     ]
    }
   ],
   "source": [
    "print(rf.score(radon_train.drop(columns='log_radon'), radon_train['log_radon']))\n",
    "print(rf.score(radon_test.drop(columns='log_radon'), radon_test['log_radon']))"
   ]
  },
  {
   "cell_type": "code",
   "execution_count": null,
   "metadata": {},
   "outputs": [],
   "source": [
    "%%time\n",
    "# Fancy Model\n",
    "rerf = GeneralRandomEffectsModel(grid_model.best_estimator_, max_iterations=4, cv=5, verbose=True)\n",
    "rerf.fit(x_train, z_train, g_train, y_train)"
   ]
  },
  {
   "cell_type": "code",
   "execution_count": null,
   "metadata": {},
   "outputs": [],
   "source": [
    "%%timeit\n",
    "# Estimate inference runtime\n",
    "rerf.predict(x_train, z_train, g_train)"
   ]
  },
  {
   "cell_type": "code",
   "execution_count": null,
   "metadata": {},
   "outputs": [],
   "source": [
    "print(rerf.score(x_train, z_train, g_train, y_train))\n",
    "print(rerf.score(x_test, z_test, g_test, y_test))\n",
    "\n",
    "rerf.plot_history()\n",
    "\n",
    "graph.figure(figsize=(6, 6))\n",
    "graph.plot([y_test.min(), y_test.max()], [y_test.min(), y_test.max()], linestyle='--', color='black')\n",
    "graph.plot(y_train, rerf.predict(x_train, z_train, g_train), '.', label='Train', alpha=0.7)\n",
    "graph.plot(y_test, rerf.predict(x_test, z_test, g_test), 'o', label='Test', alpha=0.7)\n",
    "graph.show()"
   ]
  },
  {
   "cell_type": "code",
   "execution_count": null,
   "metadata": {},
   "outputs": [],
   "source": []
  }
 ],
 "metadata": {
  "kernelspec": {
   "display_name": "Python 3",
   "language": "python",
   "name": "python3"
  },
  "language_info": {
   "codemirror_mode": {
    "name": "ipython",
    "version": 3
   },
   "file_extension": ".py",
   "mimetype": "text/x-python",
   "name": "python",
   "nbconvert_exporter": "python",
   "pygments_lexer": "ipython3",
   "version": "3.6.4"
  }
 },
 "nbformat": 4,
 "nbformat_minor": 2
}
